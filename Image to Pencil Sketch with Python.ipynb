{
 "cells": [
  {
   "cell_type": "markdown",
   "id": "41a1cf8d",
   "metadata": {},
   "source": [
    "# Grishma Dilipbhai Khatra\n",
    "# Data Science Intern at Let's Grow More LGMVIP JUNE 2022\n",
    "# Beginner Level Task:-4\n",
    "# Image to Pencil Sketch with Python\n",
    "\n",
    "# Dataset Link:- https://thecleverprogrammer.com/2020/09/30/pencil-sketch-with-python/"
   ]
  },
  {
   "cell_type": "markdown",
   "id": "5e4f7dc0",
   "metadata": {},
   "source": [
    "# Importing the libraries"
   ]
  },
  {
   "cell_type": "code",
   "execution_count": 1,
   "id": "f951d9f3",
   "metadata": {},
   "outputs": [],
   "source": [
    "import cv2"
   ]
  },
  {
   "cell_type": "code",
   "execution_count": 2,
   "id": "30072568",
   "metadata": {},
   "outputs": [],
   "source": [
    "#pip install opencv-python"
   ]
  },
  {
   "cell_type": "markdown",
   "id": "ff93e793",
   "metadata": {},
   "source": [
    "# Read the image "
   ]
  },
  {
   "cell_type": "code",
   "execution_count": 3,
   "id": "ff6a0542",
   "metadata": {},
   "outputs": [
    {
     "data": {
      "text/plain": [
       "-1"
      ]
     },
     "execution_count": 3,
     "metadata": {},
     "output_type": "execute_result"
    }
   ],
   "source": [
    "image = cv2.imread(\"C:\\\\Users\\\\GRISHMA\\\\OneDrive\\\\Desktop\\\\python\\\\photo\\\\grishu.jpg\")\n",
    "cv2.imshow(\"grishu\", image)\n",
    "cv2.waitKey(0)\n"
   ]
  },
  {
   "cell_type": "markdown",
   "id": "7c50372c",
   "metadata": {},
   "source": [
    "# Converting the Original to Greyscale"
   ]
  },
  {
   "cell_type": "code",
   "execution_count": 4,
   "id": "0a11f57f",
   "metadata": {},
   "outputs": [
    {
     "data": {
      "text/plain": [
       "-1"
      ]
     },
     "execution_count": 4,
     "metadata": {},
     "output_type": "execute_result"
    }
   ],
   "source": [
    "gray_image = cv2.cvtColor(image, cv2.COLOR_BGR2GRAY)\n",
    "cv2.imshow(\"New grishu\", gray_image)\n",
    "cv2.waitKey(0)"
   ]
  },
  {
   "cell_type": "markdown",
   "id": "310b2841",
   "metadata": {},
   "source": [
    "# Invert the New Grayscale Image"
   ]
  },
  {
   "cell_type": "code",
   "execution_count": 5,
   "id": "8a42fad6",
   "metadata": {},
   "outputs": [
    {
     "data": {
      "text/plain": [
       "-1"
      ]
     },
     "execution_count": 5,
     "metadata": {},
     "output_type": "execute_result"
    }
   ],
   "source": [
    "inverted_image = 255 - gray_image\n",
    "cv2.imshow(\"Inverted\", inverted_image)\n",
    "cv2.waitKey()"
   ]
  },
  {
   "cell_type": "markdown",
   "id": "21eb1cce",
   "metadata": {},
   "source": [
    "# Blur the Image by Using the Gaussian Function"
   ]
  },
  {
   "cell_type": "code",
   "execution_count": 6,
   "id": "bfc49988",
   "metadata": {},
   "outputs": [],
   "source": [
    "blurred = cv2.GaussianBlur(inverted_image, (21, 21), 0)"
   ]
  },
  {
   "cell_type": "markdown",
   "id": "8023bfcb",
   "metadata": {},
   "source": [
    "# Invert the Blurred Image"
   ]
  },
  {
   "cell_type": "code",
   "execution_count": null,
   "id": "fe340a63",
   "metadata": {},
   "outputs": [],
   "source": [
    "inverted_blurred = 255 - blurred\n",
    "pencil_sketch = cv2.divide(gray_image, inverted_blurred, scale=256.0)\n",
    "cv2.imshow(\"Sketch\", pencil_sketch)\n",
    "cv2.waitKey(0)"
   ]
  },
  {
   "cell_type": "code",
   "execution_count": null,
   "id": "788bf0bf",
   "metadata": {},
   "outputs": [],
   "source": [
    "cv2.imshow(\"original image\", image)\n",
    "cv2.imshow(\"pencil sketch\", pencil_sketch)\n",
    "cv2.waitKey(0)"
   ]
  },
  {
   "cell_type": "code",
   "execution_count": null,
   "id": "dfcd1818",
   "metadata": {},
   "outputs": [],
   "source": []
  }
 ],
 "metadata": {
  "kernelspec": {
   "display_name": "Python 3 (ipykernel)",
   "language": "python",
   "name": "python3"
  },
  "language_info": {
   "codemirror_mode": {
    "name": "ipython",
    "version": 3
   },
   "file_extension": ".py",
   "mimetype": "text/x-python",
   "name": "python",
   "nbconvert_exporter": "python",
   "pygments_lexer": "ipython3",
   "version": "3.9.7"
  }
 },
 "nbformat": 4,
 "nbformat_minor": 5
}
